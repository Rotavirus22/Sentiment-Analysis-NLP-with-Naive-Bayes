{
 "cells": [
  {
   "cell_type": "code",
   "execution_count": 1,
   "id": "e5951184-a7c1-410c-80e4-68f2159bd6c8",
   "metadata": {},
   "outputs": [],
   "source": [
    "import numpy as np\n",
    "import pandas as pd"
   ]
  },
  {
   "cell_type": "code",
   "execution_count": 2,
   "id": "214be1e9-36e9-4805-a989-c786c6eed638",
   "metadata": {},
   "outputs": [],
   "source": [
    "df = pd.read_csv(\"IMDB Dataset.csv\")"
   ]
  },
  {
   "cell_type": "code",
   "execution_count": 3,
   "id": "a20b7023-2cb6-44fb-9ff0-b74158153941",
   "metadata": {},
   "outputs": [
    {
     "data": {
      "text/html": [
       "<div>\n",
       "<style scoped>\n",
       "    .dataframe tbody tr th:only-of-type {\n",
       "        vertical-align: middle;\n",
       "    }\n",
       "\n",
       "    .dataframe tbody tr th {\n",
       "        vertical-align: top;\n",
       "    }\n",
       "\n",
       "    .dataframe thead th {\n",
       "        text-align: right;\n",
       "    }\n",
       "</style>\n",
       "<table border=\"1\" class=\"dataframe\">\n",
       "  <thead>\n",
       "    <tr style=\"text-align: right;\">\n",
       "      <th></th>\n",
       "      <th>review</th>\n",
       "      <th>sentiment</th>\n",
       "    </tr>\n",
       "  </thead>\n",
       "  <tbody>\n",
       "    <tr>\n",
       "      <th>0</th>\n",
       "      <td>One of the other reviewers has mentioned that ...</td>\n",
       "      <td>positive</td>\n",
       "    </tr>\n",
       "    <tr>\n",
       "      <th>1</th>\n",
       "      <td>A wonderful little production. &lt;br /&gt;&lt;br /&gt;The...</td>\n",
       "      <td>positive</td>\n",
       "    </tr>\n",
       "    <tr>\n",
       "      <th>2</th>\n",
       "      <td>I thought this was a wonderful way to spend ti...</td>\n",
       "      <td>positive</td>\n",
       "    </tr>\n",
       "    <tr>\n",
       "      <th>3</th>\n",
       "      <td>Basically there's a family where a little boy ...</td>\n",
       "      <td>negative</td>\n",
       "    </tr>\n",
       "    <tr>\n",
       "      <th>4</th>\n",
       "      <td>Petter Mattei's \"Love in the Time of Money\" is...</td>\n",
       "      <td>positive</td>\n",
       "    </tr>\n",
       "  </tbody>\n",
       "</table>\n",
       "</div>"
      ],
      "text/plain": [
       "                                              review sentiment\n",
       "0  One of the other reviewers has mentioned that ...  positive\n",
       "1  A wonderful little production. <br /><br />The...  positive\n",
       "2  I thought this was a wonderful way to spend ti...  positive\n",
       "3  Basically there's a family where a little boy ...  negative\n",
       "4  Petter Mattei's \"Love in the Time of Money\" is...  positive"
      ]
     },
     "execution_count": 3,
     "metadata": {},
     "output_type": "execute_result"
    }
   ],
   "source": [
    "df.head()"
   ]
  },
  {
   "cell_type": "code",
   "execution_count": 5,
   "id": "44dda844-1bbe-4be4-933b-bc30996733b7",
   "metadata": {},
   "outputs": [],
   "source": [
    "import re\n",
    "stopwords = set([\n",
    "    \"the\", \"and\", \"was\", \"is\", \"in\", \"to\", \"of\", \"for\", \"a\", \"an\", \"this\", \"that\",\n",
    "    \"it\", \"on\", \"with\", \"as\", \"at\", \"by\", \"be\", \"are\", \"from\", \"but\", \"not\", \"you\",\n",
    "    \"i\", \"they\", \"he\", \"she\", \"we\", \"do\", \"does\", \"did\", \"have\", \"has\", \"had\", \"my\"\n",
    "])\n",
    "def preprocess(text):\n",
    "    text = text.lower()\n",
    "    text = re.sub(r\"<.*?>\", \"\", text)\n",
    "    text = re.sub(r\"[^\\w\\s]\", \"\", text)\n",
    "    tokens = text.split()\n",
    "    return [word for word in tokens if word not in stopwords]\n",
    "\n",
    "df['tokens'] = df['review'].apply(preprocess)"
   ]
  },
  {
   "cell_type": "code",
   "execution_count": 7,
   "id": "35287b98-81f6-4222-b5f9-c828c8811ef3",
   "metadata": {},
   "outputs": [],
   "source": [
    "from collections import Counter\n",
    "all_tokens = [token for tokens in df['tokens'] for token in tokens]\n",
    "common_words = Counter(all_tokens).most_common(10000)\n",
    "vocab = {word: idx for idx, (word, _) in enumerate(common_words)}"
   ]
  },
  {
   "cell_type": "code",
   "execution_count": 8,
   "id": "71bef95f-cb57-40eb-95ce-bee5f71e1381",
   "metadata": {},
   "outputs": [],
   "source": [
    "doc_freq = {}\n",
    "total_docs = len(df)\n",
    "\n",
    "for tokens in df['tokens']:\n",
    "    unique_tokens = set(tokens)\n",
    "    for token in unique_tokens:\n",
    "        doc_freq[token] = doc_freq.get(token, 0) + 1\n",
    "\n",
    "def vectorize_tfidf(tokens, vocab, doc_freq, total_docs):\n",
    "    vec = np.zeros(len(vocab))\n",
    "    term_counts = Counter(tokens)\n",
    "    for token, count in term_counts.items():\n",
    "        if token in vocab:\n",
    "            tf = count / len(tokens)\n",
    "            dfreq = doc_freq.get(token, 1)\n",
    "            idf = np.log((total_docs + 1) / (dfreq + 1)) + 1\n",
    "            vec[vocab[token]] = tf * idf\n",
    "    return vec\n",
    "\n",
    "df['tfidf'] = df['tokens'].apply(lambda tokens: vectorize_tfidf(tokens, vocab, doc_freq, total_docs))"
   ]
  },
  {
   "cell_type": "code",
   "execution_count": 11,
   "id": "1a4f88ae-7d78-4374-aad7-f0689a0a5be1",
   "metadata": {},
   "outputs": [],
   "source": [
    "X = np.stack(df['tfidf'].values)\n",
    "y = df['sentiment'].map({'positive': 1, 'negative': 0}).values\n",
    "\n",
    "from sklearn.model_selection import train_test_split\n",
    "X_train, X_test, y_train, y_test = train_test_split(X, y, stratify=y, test_size=0.2, random_state=42)"
   ]
  },
  {
   "cell_type": "code",
   "execution_count": 12,
   "id": "a3e87645-f601-4f2e-ac05-a89dbc5c0171",
   "metadata": {},
   "outputs": [],
   "source": [
    "def train_naive_bayes(X, y, alpha=0.5):\n",
    "    class_count = np.bincount(y)\n",
    "    n_classes = len(class_count)\n",
    "    n_features = X.shape[1]\n",
    "    \n",
    "    log_class_priors = np.log(class_count / len(y))\n",
    "    word_counts = np.zeros((n_classes, n_features))\n",
    "    \n",
    "    for c in range(n_classes):\n",
    "        word_counts[c] = X[y == c].sum(axis=0)\n",
    "    \n",
    "    word_probs = (word_counts + alpha) / (word_counts.sum(axis=1)[:, None] + alpha * n_features)\n",
    "    log_word_probs = np.log(word_probs)\n",
    "    \n",
    "    return log_class_priors, log_word_probs"
   ]
  },
  {
   "cell_type": "code",
   "execution_count": 14,
   "id": "de77c13d-b92e-40ed-baf2-0ecb1607455e",
   "metadata": {},
   "outputs": [
    {
     "name": "stdout",
     "output_type": "stream",
     "text": [
      " Naive Bayes Accuracy (TF-IDF + stopwords removed): 0.8632\n"
     ]
    }
   ],
   "source": [
    "def predict_naive_bayes(X, log_class_priors, log_word_probs):\n",
    "    log_probs = X @ log_word_probs.T + log_class_priors\n",
    "    return np.argmax(log_probs, axis=1)\n",
    "\n",
    "log_class_priors, log_word_probs = train_naive_bayes(X_train, y_train, alpha=0.5)\n",
    "y_pred = predict_naive_bayes(X_test, log_class_priors, log_word_probs)\n",
    "\n",
    "accuracy = np.mean(y_pred == y_test)\n",
    "print(f\" Naive Bayes Accuracy (TF-IDF + stopwords removed): {accuracy:.4f}\")"
   ]
  },
  {
   "cell_type": "code",
   "execution_count": 15,
   "id": "e852df03-f047-4b41-acf2-a517f0b4c02f",
   "metadata": {},
   "outputs": [
    {
     "ename": "NameError",
     "evalue": "name 'pickle' is not defined",
     "output_type": "error",
     "traceback": [
      "\u001b[1;31m---------------------------------------------------------------------------\u001b[0m",
      "\u001b[1;31mNameError\u001b[0m                                 Traceback (most recent call last)",
      "Cell \u001b[1;32mIn[15], line 3\u001b[0m\n\u001b[0;32m      1\u001b[0m \u001b[38;5;66;03m# Pickle the model\u001b[39;00m\n\u001b[0;32m      2\u001b[0m \u001b[38;5;28;01mwith\u001b[39;00m \u001b[38;5;28mopen\u001b[39m(\u001b[38;5;124m'\u001b[39m\u001b[38;5;124mnaive_bayes_model.pkl\u001b[39m\u001b[38;5;124m'\u001b[39m, \u001b[38;5;124m'\u001b[39m\u001b[38;5;124mwb\u001b[39m\u001b[38;5;124m'\u001b[39m) \u001b[38;5;28;01mas\u001b[39;00m model_file:\n\u001b[1;32m----> 3\u001b[0m     pickle\u001b[38;5;241m.\u001b[39mdump((log_class_priors, log_word_probs), model_file)\n\u001b[0;32m      5\u001b[0m \u001b[38;5;66;03m# Pickle the vocab and doc_freq\u001b[39;00m\n\u001b[0;32m      6\u001b[0m \u001b[38;5;28;01mwith\u001b[39;00m \u001b[38;5;28mopen\u001b[39m(\u001b[38;5;124m'\u001b[39m\u001b[38;5;124mvocab.pkl\u001b[39m\u001b[38;5;124m'\u001b[39m, \u001b[38;5;124m'\u001b[39m\u001b[38;5;124mwb\u001b[39m\u001b[38;5;124m'\u001b[39m) \u001b[38;5;28;01mas\u001b[39;00m vocab_file:\n",
      "\u001b[1;31mNameError\u001b[0m: name 'pickle' is not defined"
     ]
    }
   ],
   "source": [
    "# Pickle the model\n",
    "\n",
    "import pick;e\n",
    "with open('naive_bayes_model.pkl', 'wb') as model_file:\n",
    "    pickle.dump((log_class_priors, log_word_probs), model_file)\n",
    "    \n",
    "# Pickle the vocab and doc_freq\n",
    "with open('vocab.pkl', 'wb') as vocab_file:\n",
    "    pickle.dump(vocab, vocab_file)\n",
    "\n",
    "with open('doc_freq.pkl', 'wb') as doc_freq_file:\n",
    "    pickle.dump(doc_freq, doc_freq_file)"
   ]
  },
  {
   "cell_type": "code",
   "execution_count": null,
   "id": "ba44db44-b42f-48c1-9eb8-cac9e6044d87",
   "metadata": {},
   "outputs": [],
   "source": []
  }
 ],
 "metadata": {
  "kernelspec": {
   "display_name": "Python 3 (ipykernel)",
   "language": "python",
   "name": "python3"
  },
  "language_info": {
   "codemirror_mode": {
    "name": "ipython",
    "version": 3
   },
   "file_extension": ".py",
   "mimetype": "text/x-python",
   "name": "python",
   "nbconvert_exporter": "python",
   "pygments_lexer": "ipython3",
   "version": "3.12.7"
  }
 },
 "nbformat": 4,
 "nbformat_minor": 5
}
